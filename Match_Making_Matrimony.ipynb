{
  "nbformat": 4,
  "nbformat_minor": 0,
  "metadata": {
    "colab": {
      "provenance": []
    },
    "kernelspec": {
      "name": "python3",
      "display_name": "Python 3"
    },
    "language_info": {
      "name": "python"
    }
  },
  "cells": [
    {
      "cell_type": "code",
      "execution_count": 1,
      "metadata": {
        "id": "G0iYnMGpGlr7"
      },
      "outputs": [],
      "source": [
        "import numpy as np"
      ]
    },
    {
      "cell_type": "code",
      "source": [
        "# Define dummy data for four users\n",
        "users = [\n",
        "    {\n",
        "        \"id\": 1,\n",
        "        \"name\": \"Female User 1\",\n",
        "        \"gender\": \"female\",\n",
        "        \"age\": 30,\n",
        "        \"location\": \"New York\",\n",
        "        \"profession\": \"Entrepreneur\",\n",
        "        \"interests\": [\"starting a business\", \"traveling\", \"reading\"],\n",
        "        \"personal_statement\": \"I wanna create a business with my husband\"\n",
        "    },\n",
        "    {\n",
        "        \"id\": 2,\n",
        "        \"name\": \"Male User\",\n",
        "        \"gender\": \"male\",\n",
        "        \"age\": 32,\n",
        "        \"location\": \"New York\",\n",
        "        \"profession\": \"Software Engineer\",\n",
        "        \"interests\": [\"technology\", \"starting a business\", \"hiking\"],\n",
        "        \"personal_statement\": \"Looking for a girl who might be interested in starting a business with me\"\n",
        "    },\n",
        "    {\n",
        "        \"id\": 3,\n",
        "        \"name\": \"Female User 2\",\n",
        "        \"gender\": \"female\",\n",
        "        \"age\": 28,\n",
        "        \"location\": \"Los Angeles\",\n",
        "        \"profession\": \"Designer\",\n",
        "        \"interests\": [\"art\", \"music\", \"cooking\"],\n",
        "        \"personal_statement\": \"I love creativity and art, looking for someone who shares the same passion.\"\n",
        "    },\n",
        "    {\n",
        "        \"id\": 4,\n",
        "        \"name\": \"Female User 3\",\n",
        "        \"gender\": \"female\",\n",
        "        \"age\": 26,\n",
        "        \"location\": \"Chicago\",\n",
        "        \"profession\": \"Marketing Manager\",\n",
        "        \"interests\": [\"marketing\", \"business strategy\", \"reading\"],\n",
        "        \"personal_statement\": \"Interested in business and marketing, looking for a like-minded partner.\"\n",
        "    }\n",
        "]"
      ],
      "metadata": {
        "id": "UZQhgKqjG3aE"
      },
      "execution_count": 2,
      "outputs": []
    },
    {
      "cell_type": "code",
      "source": [
        "def calculate_similarity(user1, user2):\n",
        "    # Convert interests to sets for easier comparison\n",
        "    interests1 = set(user1[\"interests\"])\n",
        "    interests2 = set(user2[\"interests\"])\n",
        "\n",
        "    # Calculate Jaccard similarity for interests\n",
        "    intersection = interests1.intersection(interests2)\n",
        "    union = interests1.union(interests2)\n",
        "    jaccard_similarity = len(intersection) / len(union) if union else 0\n",
        "\n",
        "    # NLP-based similarity for personal statements (simple keyword match here)\n",
        "    statement1_keywords = set(user1[\"personal_statement\"].lower().split())\n",
        "    statement2_keywords = set(user2[\"personal_statement\"].lower().split())\n",
        "    statement_intersection = statement1_keywords.intersection(statement2_keywords)\n",
        "    statement_union = statement1_keywords.union(statement2_keywords)\n",
        "    statement_similarity = len(statement_intersection) / len(statement_union) if statement_union else 0\n",
        "\n",
        "    # Combine similarities (give more weight to personal statements)\n",
        "    total_similarity = 0.3 * jaccard_similarity + 0.7 * statement_similarity\n",
        "    return total_similarity"
      ],
      "metadata": {
        "id": "RB8PD0vpG9RH"
      },
      "execution_count": 3,
      "outputs": []
    },
    {
      "cell_type": "code",
      "source": [
        "def find_best_matches(user, users, min_similarity_threshold=0.1):\n",
        "    matches = []\n",
        "\n",
        "    for candidate in users:\n",
        "        if candidate[\"id\"] != user[\"id\"] and candidate[\"gender\"] != user[\"gender\"]:\n",
        "            similarity = calculate_similarity(user, candidate)\n",
        "            print(f\"Calculated similarity between {user['name']} and {candidate['name']} is {similarity:.2f}\")\n",
        "            if similarity >= min_similarity_threshold:\n",
        "                matches.append((candidate, similarity))\n",
        "\n",
        "    # Sort matches by similarity score in descending order\n",
        "    matches.sort(key=lambda x: x[1], reverse=True)\n",
        "\n",
        "    return matches"
      ],
      "metadata": {
        "id": "Jlw2PSgNHBqm"
      },
      "execution_count": 4,
      "outputs": []
    },
    {
      "cell_type": "code",
      "source": [
        "# Example usage\n",
        "user_to_match = users[1]  # Male User\n",
        "best_matches = find_best_matches(user_to_match, users, min_similarity_threshold=0.1)\n",
        "\n",
        "print(f\"Best matches for {user_to_match['name']}:\")\n",
        "for match, similarity in best_matches:\n",
        "    print(f\"{match['name']} with similarity score {similarity:.2f}\")"
      ],
      "metadata": {
        "id": "tnrAzXCVHGxg",
        "outputId": "02e081aa-b781-4d2f-ef4d-ab4f1cd7ed84",
        "colab": {
          "base_uri": "https://localhost:8080/"
        }
      },
      "execution_count": 5,
      "outputs": [
        {
          "output_type": "stream",
          "name": "stdout",
          "text": [
            "Calculated similarity between Male User and Female User 1 is 0.18\n",
            "Calculated similarity between Male User and Female User 2 is 0.09\n",
            "Calculated similarity between Male User and Female User 3 is 0.25\n",
            "Best matches for Male User:\n",
            "Female User 3 with similarity score 0.25\n",
            "Female User 1 with similarity score 0.18\n"
          ]
        }
      ]
    }
  ]
}